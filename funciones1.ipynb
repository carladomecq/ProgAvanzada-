{
  "nbformat": 4,
  "nbformat_minor": 0,
  "metadata": {
    "colab": {
      "provenance": [],
      "authorship_tag": "ABX9TyMy4Vba9Xvr73uafjVB2x7z",
      "include_colab_link": true
    },
    "kernelspec": {
      "name": "python3",
      "display_name": "Python 3"
    },
    "language_info": {
      "name": "python"
    }
  },
  "cells": [
    {
      "cell_type": "markdown",
      "metadata": {
        "id": "view-in-github",
        "colab_type": "text"
      },
      "source": [
        "<a href=\"https://colab.research.google.com/github/carladomecq/ProgAvanzada-/blob/main/funciones1.ipynb\" target=\"_parent\"><img src=\"https://colab.research.google.com/assets/colab-badge.svg\" alt=\"Open In Colab\"/></a>"
      ]
    },
    {
      "cell_type": "code",
      "execution_count": 1,
      "metadata": {
        "colab": {
          "base_uri": "https://localhost:8080/"
        },
        "id": "XsGBLuiZT3cy",
        "outputId": "93964e87-0557-4e5e-d6ba-c1910ecd6d06"
      },
      "outputs": [
        {
          "output_type": "stream",
          "name": "stdout",
          "text": [
            "Enter the length of a Rectangle: 20\n",
            "Enter the breadth of a Rectangle: 15\n",
            "Area of a Rectangle is: 300.00\n"
          ]
        }
      ],
      "source": [
        "l = float(input('Ingrese el largo del Rectangulo para calcular el Area: '))\n",
        "b = float(input('Ingrese el ancho del Rectangulo para calcular el Area: '))\n",
        "Area = l * b\n",
        "print(\"Area del rectangulo es : %.2f\" %Area)\n"
      ]
    },
    {
      "cell_type": "code",
      "source": [
        "l = float(input('Ingrese el largo del Rectangulo para Calcular el Perimetro: '))\n",
        "b = float(input('Ingrese el ancho del Rectangulo para Calcular el Perimetro: '))\n",
        "Perimetro = 2*l + 2*b\n",
        "print(\"Perimetro del reactangulo es: %.2f\" %Perimetro)"
      ],
      "metadata": {
        "colab": {
          "base_uri": "https://localhost:8080/"
        },
        "id": "dvrDuqNJVlaH",
        "outputId": "a0ee8568-a50b-4462-bc83-6494ba8da2c9"
      },
      "execution_count": 2,
      "outputs": [
        {
          "output_type": "stream",
          "name": "stdout",
          "text": [
            "Enter the length of a Rectangle: 20\n",
            "Enter the breadth of a Rectangle: 15\n",
            "Area of a Rectangle is: 70.00\n"
          ]
        }
      ]
    },
    {
      "cell_type": "code",
      "source": [
        "def perimetro_cuadrado(l):\n",
        "    return l*4\n"
      ],
      "metadata": {
        "id": "_Q542cYgYBKt"
      },
      "execution_count": 5,
      "outputs": []
    },
    {
      "cell_type": "code",
      "source": [
        "h = float(input('Ingrese el lado del cuadrado para Calcular el Perimetro: '))\n",
        "Perimetro = h * 4\n",
        "print(\"El perimetro del cuadrado es: %.2f\" %Perimetro)"
      ],
      "metadata": {
        "colab": {
          "base_uri": "https://localhost:8080/"
        },
        "id": "_ZqW5JrZV7Hm",
        "outputId": "291e6d8f-f83e-45c2-f397-e0ce6a128067"
      },
      "execution_count": 3,
      "outputs": [
        {
          "output_type": "stream",
          "name": "stdout",
          "text": [
            "Ingrese el lado del cuadrado para Calcular el Perimetro: 2\n",
            "El perimetro del cuadrado es: 8.00\n"
          ]
        }
      ]
    },
    {
      "cell_type": "code",
      "source": [
        "h = float(input('Ingrese el lado del cuadrado para Calcular el Area: '))\n",
        "Area = h * 4\n",
        "print(\"El area del cuadrado es: %.2f\" %Area)"
      ],
      "metadata": {
        "id": "_iIxTmrDXbDG"
      },
      "execution_count": null,
      "outputs": []
    }
  ]
}